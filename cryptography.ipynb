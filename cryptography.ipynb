{
 "cells": [
  {
   "cell_type": "markdown",
   "id": "8a64422c-01c3-40e2-bf73-134944fe1fa0",
   "metadata": {},
   "source": [
    "# Cryptography using Python\n",
    "\n"
   ]
  },
  {
   "cell_type": "code",
   "execution_count": 22,
   "id": "573348b3-ade6-4f67-a75e-c2284e98a940",
   "metadata": {},
   "outputs": [],
   "source": [
    "# !pip install cryptography"
   ]
  },
  {
   "cell_type": "code",
   "execution_count": 38,
   "id": "baea7776-8d34-40e4-a779-eb2180445516",
   "metadata": {},
   "outputs": [],
   "source": [
    "# Creating the key that allows you to do cryptography"
   ]
  },
  {
   "cell_type": "code",
   "execution_count": 39,
   "id": "4298fbb4-968a-4a2a-9f39-bc7489b124af",
   "metadata": {},
   "outputs": [],
   "source": [
    "from cryptography.fernet import Fernet"
   ]
  },
  {
   "cell_type": "code",
   "execution_count": 40,
   "id": "ee62b1d1-5fc0-4cf5-9213-6fa144cd978b",
   "metadata": {},
   "outputs": [],
   "source": [
    "key = Fernet.generate_key()"
   ]
  },
  {
   "cell_type": "code",
   "execution_count": 41,
   "id": "0af91bb9-5b06-4706-90c9-23fb84a3b6bf",
   "metadata": {},
   "outputs": [],
   "source": [
    "with open('filekey.key', 'wb') as filekey:\n",
    "   filekey.write(key)"
   ]
  },
  {
   "cell_type": "code",
   "execution_count": null,
   "id": "c6af0fb0-0388-47b5-8098-5298c75e781e",
   "metadata": {},
   "outputs": [],
   "source": []
  },
  {
   "cell_type": "code",
   "execution_count": 42,
   "id": "a65b6c0f-1a7f-4e27-be63-a64f28c7f476",
   "metadata": {},
   "outputs": [],
   "source": [
    "# Encryption for message"
   ]
  },
  {
   "cell_type": "code",
   "execution_count": 43,
   "id": "058c7114-6579-4dba-be06-6562a973d329",
   "metadata": {},
   "outputs": [],
   "source": [
    "with open('filekey.key', 'rb') as filekey:\n",
    "    key = filekey.read()"
   ]
  },
  {
   "cell_type": "code",
   "execution_count": 44,
   "id": "f48b134f-3080-45fb-b0ee-ba53ad2f6296",
   "metadata": {},
   "outputs": [],
   "source": [
    "fernet = Fernet(key)"
   ]
  },
  {
   "cell_type": "code",
   "execution_count": 45,
   "id": "4310ac2f-5bd0-4d0a-a9a1-63bdf2f269ec",
   "metadata": {},
   "outputs": [],
   "source": [
    "with open('secretmsg.txt', 'rb') as file:\n",
    "    original = file.read()"
   ]
  },
  {
   "cell_type": "code",
   "execution_count": 46,
   "id": "d12ffda7-80f2-4049-9094-aa53eebeeda7",
   "metadata": {},
   "outputs": [],
   "source": [
    "encrypted = fernet.encrypt(original)"
   ]
  },
  {
   "cell_type": "code",
   "execution_count": 47,
   "id": "f8f33d18-b151-4d9f-802b-3516658cfb72",
   "metadata": {},
   "outputs": [],
   "source": [
    "with open('secretmsg.txt', 'wb') as encrypted_file:\n",
    "    encrypted_file.write(encrypted)"
   ]
  },
  {
   "cell_type": "code",
   "execution_count": null,
   "id": "d6c88271-7d87-479c-b3b1-ea909dbb6ed2",
   "metadata": {},
   "outputs": [],
   "source": []
  },
  {
   "cell_type": "code",
   "execution_count": 48,
   "id": "a99684af-5c3b-4631-b20e-ffea03e9fb79",
   "metadata": {},
   "outputs": [],
   "source": [
    "# Decryption of message"
   ]
  },
  {
   "cell_type": "code",
   "execution_count": 49,
   "id": "ba0e89d0-c641-4255-ba66-ad66addfbda2",
   "metadata": {},
   "outputs": [],
   "source": [
    "fernet = Fernet(key)"
   ]
  },
  {
   "cell_type": "code",
   "execution_count": 50,
   "id": "a015a5be-39b4-46e4-9984-f45f978a77f7",
   "metadata": {},
   "outputs": [],
   "source": [
    "with open('secretmsg.txt', 'rb') as enc_file:\n",
    "    encrypted = enc_file.read()"
   ]
  },
  {
   "cell_type": "code",
   "execution_count": 51,
   "id": "fcef24f7-1e70-48d7-9e3b-40a125ef36f5",
   "metadata": {},
   "outputs": [],
   "source": [
    "decrypted = fernet.decrypt(encrypted)"
   ]
  },
  {
   "cell_type": "code",
   "execution_count": 52,
   "id": "e4b09bd0-2e78-457f-b139-53767f38411a",
   "metadata": {},
   "outputs": [],
   "source": [
    "with open('secretmsg.txt', 'wb') as dec_file:\n",
    "    dec_file.write(decrypted)"
   ]
  },
  {
   "cell_type": "code",
   "execution_count": null,
   "id": "6f0a6117-f063-437b-8946-21572e99aa48",
   "metadata": {},
   "outputs": [],
   "source": []
  },
  {
   "cell_type": "code",
   "execution_count": null,
   "id": "e5bad2bd-1aed-40d1-88e3-572bfa4cd26d",
   "metadata": {},
   "outputs": [],
   "source": []
  }
 ],
 "metadata": {
  "kernelspec": {
   "display_name": "Python 3 (ipykernel)",
   "language": "python",
   "name": "python3"
  },
  "language_info": {
   "codemirror_mode": {
    "name": "ipython",
    "version": 3
   },
   "file_extension": ".py",
   "mimetype": "text/x-python",
   "name": "python",
   "nbconvert_exporter": "python",
   "pygments_lexer": "ipython3",
   "version": "3.9.7"
  }
 },
 "nbformat": 4,
 "nbformat_minor": 5
}
